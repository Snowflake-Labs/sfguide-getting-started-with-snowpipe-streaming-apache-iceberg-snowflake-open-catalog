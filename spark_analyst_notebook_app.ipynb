{
 "metadata": {
  "kernelspec": {
   "display_name": "iceberg",
   "language": "python",
   "name": "python3"
  },
  "language_info": {
   "codemirror_mode": {
    "name": "ipython",
    "version": 3
   },
   "file_extension": ".py",
   "mimetype": "text/x-python",
   "name": "python",
   "nbconvert_exporter": "python",
   "pygments_lexer": "ipython3",
   "version": "3.12.6"
  }
 },
 "nbformat_minor": 2,
 "nbformat": 4,
 "cells": [
  {
   "cell_type": "markdown",
   "metadata": {
    "name": "Title",
    "resultHeight": 74
   },
   "source": [
    "# Apache Spark: Query data as an analyst"
   ],
   "id": "ce110000-1111-2222-3333-ffffff000000"
  },
  {
   "cell_type": "code",
   "id": "043dc4d1-b9ad-4cba-b4c8-fe582e24306e",
   "metadata": {
    "language": "python",
    "name": "Install_Libraries",
    "collapsed": false,
    "resultHeight": 0
   },
   "outputs": [],
   "source": "!pip install findspark==2.0.1 pyspark==3.5.0\n!DEBIAN_FRONTEND=noninteractive apt-get install -y openjdk-13-jdk-headless",
   "execution_count": null
  },
  {
   "cell_type": "code",
   "execution_count": null,
   "metadata": {
    "name": "Create_Spark_Context",
    "language": "python",
    "collapsed": false,
    "resultHeight": 0
   },
   "outputs": [],
   "source": "# TODO: Update POLARIS_ANALYST_CLIENT_ID and POLARIS_ANALYST_CLIENT_SECRET with your values\nimport pyspark\nfrom pyspark.sql import SparkSession\n\nPOLARIS_ANALYST_CLIENT_ID = 't954zglxxxxxxxxxxxxxxxxxxxxx'\nPOLARIS_ANALYST_CLIENT_SECRET = 'fE44DlmXKxxxxxxxxxxxxxxxxxxxxxxxxxxxxxxxxxxxxxxxx'\nWAREHOUSE = 'snowflake_catalog'\nPRINCIPAL_ANALYST_ROLE = 'spark_analyst_role'\n\ntry:\n    spark = SparkSession.builder.appName('iceberg') \\\n        .config('spark.jars.packages', 'org.apache.iceberg:iceberg-spark-runtime-3.5_2.12:1.4.1,software.amazon.awssdk:bundle:2.20.160,software.amazon.awssdk:url-connection-client:2.20.160') \\\n        .config('spark.sql.extensions', 'org.apache.iceberg.spark.extensions.IcebergSparkSessionExtensions') \\\n        .config('spark.sql.defaultCatalog', 'polaris') \\\n        .config('spark.sql.catalog.polaris', 'org.apache.iceberg.spark.SparkCatalog') \\\n        .config('spark.sql.iceberg.vectorization.enabled', 'false') \\\n        .config('spark.sql.catalog.polaris.type', 'rest') \\\n        .config('spark.sql.catalog.polaris.header.X-Iceberg-Access-Delegation', 'vended-credentials') \\\n        .config('spark.sql.catalog.polaris.uri', f\"https://obb44892.snowflakecomputing.com/polaris/api/catalog\") \\\n        .config('spark.sql.catalog.polaris.credential', f\"{POLARIS_ANALYST_CLIENT_ID}:{POLARIS_ANALYST_CLIENT_SECRET}\") \\\n        .config('spark.sql.catalog.polaris.warehouse', f\"{WAREHOUSE}\") \\\n        .config('spark.sql.catalog.polaris.scope', f\"PRINCIPAL_ROLE:{PRINCIPAL_ANALYST_ROLE}\") \\\n        .config('spark.sql.catalog.polaris.client.region','us-west-2') \\\n        .getOrCreate()\n\n    spark.sql(\"select * from DASH_DB.RAW.STREAMING_VEHICLE_EVENTS\").show(10, truncate = False)\nexcept Exception as e:\n      print(e)",
   "id": "ce110000-1111-2222-3333-ffffff000002"
  },
  {
   "cell_type": "code",
   "execution_count": null,
   "metadata": {
    "name": "Query_Data",
    "language": "python",
    "collapsed": false,
    "resultHeight": 0
   },
   "outputs": [],
   "source": [
    "spark.sql(\"SELECT * FROM DASH_DB.REFINED.VEHICLE_EVENTS_SCD2\").show(10, truncate=False)"
   ],
   "id": "ce110000-1111-2222-3333-ffffff000003"
  }
 ]
}