{
 "cells": [
  {
   "cell_type": "markdown",
   "id": "ce110000-1111-2222-3333-ffffff000000",
   "metadata": {
    "name": "Title",
    "resultHeight": 74
   },
   "source": [
    "# Apache Spark: Query data as an analyst"
   ]
  },
  {
   "cell_type": "markdown",
   "metadata": {},
   "source": [
    "### Overview\n",
    "\n",
    "Snowflake’s native integration with Apache Iceberg empowers organizations to build a highly interoperable and open lakehouse architecture. With streamlined support for batch and streaming data ingestion, transformation pipelines, and analytics, Snowflake simplifies complex workflows on Iceberg tables. Additionally, Snowflake Open Catalog, a managed service for Apache Polaris, offers robust role-based access controls, ensuring seamless data governance and secure collaboration across multiple engines.\n",
    "\n",
    "### Step-By-Step Guide\n",
    "\n",
    "For prerequisites and environment setup, please refer to the [QuickStart Guide](https://quickstarts.snowflake.com/guide/apache-iceberg-snowflake-open-catalog-snowpipe-streaming/index.html).\n"
   ]
  },
  {
   "cell_type": "code",
   "execution_count": null,
   "id": "043dc4d1-b9ad-4cba-b4c8-fe582e24306e",
   "metadata": {
    "collapsed": false,
    "language": "python",
    "name": "Install_Libraries",
    "resultHeight": 0
   },
   "outputs": [],
   "source": [
    "!pip install findspark==2.0.1 pyspark==3.5.0\n",
    "!DEBIAN_FRONTEND=noninteractive apt-get install -y openjdk-13-jdk-headless"
   ]
  },
  {
   "cell_type": "code",
   "execution_count": null,
   "id": "ce110000-1111-2222-3333-ffffff000002",
   "metadata": {
    "collapsed": false,
    "language": "python",
    "name": "Create_Spark_Context",
    "resultHeight": 0
   },
   "outputs": [],
   "source": [
    "# TODO: Update POLARIS_ANALYST_CLIENT_ID and POLARIS_ANALYST_CLIENT_SECRET with your values\n",
    "import pyspark\n",
    "from pyspark.sql import SparkSession\n",
    "\n",
    "POLARIS_ANALYST_CLIENT_ID = 't954zglxxxxxxxxxxxxxxxxxxxxx'\n",
    "POLARIS_ANALYST_CLIENT_SECRET = 'fE44DlmXKxxxxxxxxxxxxxxxxxxxxxxxxxxxxxxxxxxxxxxxx'\n",
    "WAREHOUSE = 'snowflake_catalog'\n",
    "PRINCIPAL_ANALYST_ROLE = 'spark_analyst_role'\n",
    "\n",
    "try:\n",
    "    spark = SparkSession.builder.appName('iceberg') \\\n",
    "        .config('spark.jars.packages', 'org.apache.iceberg:iceberg-spark-runtime-3.5_2.12:1.4.1,software.amazon.awssdk:bundle:2.20.160,software.amazon.awssdk:url-connection-client:2.20.160') \\\n",
    "        .config('spark.sql.extensions', 'org.apache.iceberg.spark.extensions.IcebergSparkSessionExtensions') \\\n",
    "        .config('spark.sql.defaultCatalog', 'polaris') \\\n",
    "        .config('spark.sql.catalog.polaris', 'org.apache.iceberg.spark.SparkCatalog') \\\n",
    "        .config('spark.sql.iceberg.vectorization.enabled', 'false') \\\n",
    "        .config('spark.sql.catalog.polaris.type', 'rest') \\\n",
    "        .config('spark.sql.catalog.polaris.header.X-Iceberg-Access-Delegation', 'vended-credentials') \\\n",
    "        .config('spark.sql.catalog.polaris.uri', f\"https://obb44892.snowflakecomputing.com/polaris/api/catalog\") \\\n",
    "        .config('spark.sql.catalog.polaris.credential', f\"{POLARIS_ANALYST_CLIENT_ID}:{POLARIS_ANALYST_CLIENT_SECRET}\") \\\n",
    "        .config('spark.sql.catalog.polaris.warehouse', f\"{WAREHOUSE}\") \\\n",
    "        .config('spark.sql.catalog.polaris.scope', f\"PRINCIPAL_ROLE:{PRINCIPAL_ANALYST_ROLE}\") \\\n",
    "        .config('spark.sql.catalog.polaris.client.region','us-west-2') \\\n",
    "        .getOrCreate()\n",
    "\n",
    "    spark.sql(\"select * from DASH_DB.RAW.STREAMING_VEHICLE_EVENTS\").show(10, truncate = False)\n",
    "except Exception as e:\n",
    "      print(e)"
   ]
  },
  {
   "cell_type": "code",
   "execution_count": null,
   "id": "ce110000-1111-2222-3333-ffffff000003",
   "metadata": {
    "collapsed": false,
    "language": "python",
    "name": "Query_Data",
    "resultHeight": 0
   },
   "outputs": [],
   "source": [
    "spark.sql(\"SELECT * FROM DASH_DB.REFINED.VEHICLE_EVENTS_SCD2\").show(10, truncate=False)"
   ]
  }
 ],
 "metadata": {
  "kernelspec": {
   "display_name": "iceberg",
   "language": "python",
   "name": "python3"
  },
  "language_info": {
   "codemirror_mode": {
    "name": "ipython",
    "version": 3
   },
   "file_extension": ".py",
   "mimetype": "text/x-python",
   "name": "python",
   "nbconvert_exporter": "python",
   "pygments_lexer": "ipython3",
   "version": "3.12.6"
  }
 },
 "nbformat": 4,
 "nbformat_minor": 2
}
